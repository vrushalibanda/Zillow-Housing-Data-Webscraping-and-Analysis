{
 "cells": [
  {
   "cell_type": "markdown",
   "metadata": {},
   "source": [
    "#Import Libaries"
   ]
  },
  {
   "cell_type": "code",
   "execution_count": 1,
   "metadata": {},
   "outputs": [],
   "source": [
    "import pandas as pd\n",
    "import numpy as np\n",
    "import matplotlib.pyplot as plt\n",
    "%matplotlib inline\n",
    "import seaborn as sns## Import Libraries"
   ]
  },
  {
   "cell_type": "markdown",
   "metadata": {},
   "source": [
    "#Import Data"
   ]
  },
  {
   "cell_type": "code",
   "execution_count": 2,
   "metadata": {},
   "outputs": [
    {
     "data": {
      "text/html": [
       "<div>\n",
       "<style scoped>\n",
       "    .dataframe tbody tr th:only-of-type {\n",
       "        vertical-align: middle;\n",
       "    }\n",
       "\n",
       "    .dataframe tbody tr th {\n",
       "        vertical-align: top;\n",
       "    }\n",
       "\n",
       "    .dataframe thead th {\n",
       "        text-align: right;\n",
       "    }\n",
       "</style>\n",
       "<table border=\"1\" class=\"dataframe\">\n",
       "  <thead>\n",
       "    <tr style=\"text-align: right;\">\n",
       "      <th></th>\n",
       "      <th>bds</th>\n",
       "      <th>bath</th>\n",
       "      <th>areas</th>\n",
       "      <th>lot_size</th>\n",
       "      <th>year_built</th>\n",
       "      <th>central a/c</th>\n",
       "      <th>central heater</th>\n",
       "      <th>garage</th>\n",
       "      <th>price/sqft</th>\n",
       "      <th>elem_score</th>\n",
       "      <th>middle_score</th>\n",
       "      <th>high_score</th>\n",
       "      <th>elem_school</th>\n",
       "      <th>middle_school</th>\n",
       "      <th>high_school</th>\n",
       "      <th>Price</th>\n",
       "      <th>HOA</th>\n",
       "      <th>address</th>\n",
       "      <th>neighborhood</th>\n",
       "      <th>Sold</th>\n",
       "    </tr>\n",
       "  </thead>\n",
       "  <tbody>\n",
       "    <tr>\n",
       "      <td>0</td>\n",
       "      <td>3</td>\n",
       "      <td>2</td>\n",
       "      <td>1339</td>\n",
       "      <td>4586</td>\n",
       "      <td>1986</td>\n",
       "      <td>1</td>\n",
       "      <td>1</td>\n",
       "      <td>2</td>\n",
       "      <td>761.762509</td>\n",
       "      <td>9</td>\n",
       "      <td>4</td>\n",
       "      <td>5</td>\n",
       "      <td>Birch Grove Primary</td>\n",
       "      <td>Newark Junior High School</td>\n",
       "      <td>Newark Memorial High School</td>\n",
       "      <td>1020000</td>\n",
       "      <td>0</td>\n",
       "      <td>5780 Bellflower Dr, Newark, CA 94560</td>\n",
       "      <td>94560</td>\n",
       "      <td>1</td>\n",
       "    </tr>\n",
       "    <tr>\n",
       "      <td>1</td>\n",
       "      <td>5</td>\n",
       "      <td>6</td>\n",
       "      <td>3400</td>\n",
       "      <td>3400</td>\n",
       "      <td>1963</td>\n",
       "      <td>0</td>\n",
       "      <td>0</td>\n",
       "      <td>0</td>\n",
       "      <td>452.941176</td>\n",
       "      <td>9</td>\n",
       "      <td>4</td>\n",
       "      <td>5</td>\n",
       "      <td>Birch Grove Primary</td>\n",
       "      <td>Newark Junior High School</td>\n",
       "      <td>Newark Memorial High School</td>\n",
       "      <td>1540000</td>\n",
       "      <td>0</td>\n",
       "      <td>39441 N Darner, Newark, CA 94560</td>\n",
       "      <td>94560</td>\n",
       "      <td>1</td>\n",
       "    </tr>\n",
       "    <tr>\n",
       "      <td>2</td>\n",
       "      <td>5</td>\n",
       "      <td>5</td>\n",
       "      <td>2700</td>\n",
       "      <td>2700</td>\n",
       "      <td>1963</td>\n",
       "      <td>0</td>\n",
       "      <td>0</td>\n",
       "      <td>0</td>\n",
       "      <td>540.740741</td>\n",
       "      <td>9</td>\n",
       "      <td>4</td>\n",
       "      <td>5</td>\n",
       "      <td>Birch Grove Primary</td>\n",
       "      <td>Newark Junior High School</td>\n",
       "      <td>Newark Memorial High School</td>\n",
       "      <td>1460000</td>\n",
       "      <td>0</td>\n",
       "      <td>39693 Mule Deer, Newark, CA 94560</td>\n",
       "      <td>94560</td>\n",
       "      <td>1</td>\n",
       "    </tr>\n",
       "  </tbody>\n",
       "</table>\n",
       "</div>"
      ],
      "text/plain": [
       "   bds  bath  areas  lot_size  year_built  central a/c  central heater  \\\n",
       "0    3     2   1339      4586        1986            1               1   \n",
       "1    5     6   3400      3400        1963            0               0   \n",
       "2    5     5   2700      2700        1963            0               0   \n",
       "\n",
       "   garage  price/sqft  elem_score  middle_score  high_score  \\\n",
       "0       2  761.762509           9             4           5   \n",
       "1       0  452.941176           9             4           5   \n",
       "2       0  540.740741           9             4           5   \n",
       "\n",
       "           elem_school              middle_school  \\\n",
       "0  Birch Grove Primary  Newark Junior High School   \n",
       "1  Birch Grove Primary  Newark Junior High School   \n",
       "2  Birch Grove Primary  Newark Junior High School   \n",
       "\n",
       "                   high_school    Price  HOA  \\\n",
       "0  Newark Memorial High School  1020000    0   \n",
       "1  Newark Memorial High School  1540000    0   \n",
       "2  Newark Memorial High School  1460000    0   \n",
       "\n",
       "                                address  neighborhood  Sold  \n",
       "0  5780 Bellflower Dr, Newark, CA 94560         94560     1  \n",
       "1      39441 N Darner, Newark, CA 94560         94560     1  \n",
       "2     39693 Mule Deer, Newark, CA 94560         94560     1  "
      ]
     },
     "execution_count": 2,
     "metadata": {},
     "output_type": "execute_result"
    }
   ],
   "source": [
    "housing = pd.read_excel(\"Housing_Data_Newark_All.xlsx\",index_col=[0]) \n",
    "housing.head(3)"
   ]
  },
  {
   "cell_type": "code",
   "execution_count": 3,
   "metadata": {},
   "outputs": [
    {
     "data": {
      "text/plain": [
       "bds               0\n",
       "bath              0\n",
       "areas             0\n",
       "lot_size          0\n",
       "year_built        0\n",
       "central a/c       0\n",
       "central heater    0\n",
       "garage            0\n",
       "price/sqft        0\n",
       "elem_score        0\n",
       "middle_score      0\n",
       "high_score        0\n",
       "elem_school       0\n",
       "middle_school     0\n",
       "high_school       0\n",
       "Price             0\n",
       "HOA               0\n",
       "address           0\n",
       "neighborhood      0\n",
       "Sold              0\n",
       "dtype: int64"
      ]
     },
     "execution_count": 3,
     "metadata": {},
     "output_type": "execute_result"
    }
   ],
   "source": [
    "housing.isnull().sum()"
   ]
  },
  {
   "cell_type": "code",
   "execution_count": 4,
   "metadata": {},
   "outputs": [
    {
     "data": {
      "text/plain": [
       "bds               3.810127e+00\n",
       "bath              2.848101e+00\n",
       "areas             2.027443e+03\n",
       "lot_size          5.355266e+03\n",
       "year_built        1.979101e+03\n",
       "central a/c       2.784810e-01\n",
       "central heater    5.443038e-01\n",
       "garage            1.746835e+00\n",
       "price/sqft        5.835402e+02\n",
       "elem_score        6.278481e+00\n",
       "middle_score      4.000000e+00\n",
       "high_score        5.000000e+00\n",
       "Price             1.115212e+06\n",
       "HOA               1.915190e+01\n",
       "neighborhood      9.455944e+04\n",
       "Sold              5.569620e-01\n",
       "dtype: float64"
      ]
     },
     "execution_count": 4,
     "metadata": {},
     "output_type": "execute_result"
    }
   ],
   "source": [
    "housing.mean()"
   ]
  },
  {
   "cell_type": "markdown",
   "metadata": {},
   "source": [
    "Data Visualization\n"
   ]
  },
  {
   "cell_type": "markdown",
   "metadata": {},
   "source": [
    "#Research Question 1: Find the variation of house price by number of bedrooms."
   ]
  },
  {
   "cell_type": "code",
   "execution_count": 5,
   "metadata": {
    "scrolled": true
   },
   "outputs": [
    {
     "data": {
      "text/plain": [
       "Text(0, 0.5, 'Price')"
      ]
     },
     "execution_count": 5,
     "metadata": {},
     "output_type": "execute_result"
    },
    {
     "data": {
      "image/png": "[encoded data removed]",
      "text/plain": [
       "<Figure size 432x288 with 1 Axes>"
      ]
     },
     "metadata": {
      "needs_background": "light"
     },
     "output_type": "display_data"
    }
   ],
   "source": [
    "sns.boxplot(x='bds',y='Price',data=housing,palette='rainbow')\n",
    "plt.xlabel('Number of Bedrooms')\n",
    "plt.ylabel('Price')"
   ]
  },
  {
   "cell_type": "markdown",
   "metadata": {},
   "source": [
    "#Research Question 2: What is the distribution of house prices that are currently on market in Newark?"
   ]
  },
  {
   "cell_type": "code",
   "execution_count": 6,
   "metadata": {},
   "outputs": [
    {
     "data": {
      "text/plain": [
       "Text(0, 0.5, 'Number of listings')"
      ]
     },
     "execution_count": 6,
     "metadata": {},
     "output_type": "execute_result"
    },
    {
     "data": {
      "image/png": "[encoded data removed]",
      "text/plain": [
       "<Figure size 432x288 with 1 Axes>"
      ]
     },
     "metadata": {},
     "output_type": "display_data"
    }
   ],
   "source": [
    "plt.style.use('dark_background')\n",
    "housing['Price'][housing['Sold']==0].hist()\n",
    "plt.xlabel('Price')\n",
    "plt.ylabel('Number of listings')"
   ]
  },
  {
   "cell_type": "markdown",
   "metadata": {},
   "source": [
    "#Research Question 3: Find the number of houses by bedroom that our currenly on market or have been sold in the Newark area?"
   ]
  },
  {
   "cell_type": "code",
   "execution_count": 7,
   "metadata": {},
   "outputs": [
    {
     "data": {
      "text/plain": [
       "Text(0, 0.5, 'Number of Listings')"
      ]
     },
     "execution_count": 7,
     "metadata": {},
     "output_type": "execute_result"
    },
    {
     "data": {
      "image/png": "[encoded data removed]",
      "text/plain": [
       "<Figure size 432x288 with 1 Axes>"
      ]
     },
     "metadata": {},
     "output_type": "display_data"
    }
   ],
   "source": [
    "ct=pd.crosstab(housing.bds,housing.Sold)\n",
    "ct\n",
    "ct.plot.bar()\n",
    "plt.xlabel('Number of Bedrooms')\n",
    "plt.ylabel('Number of Listings')\n",
    "\n",
    "\n"
   ]
  },
  {
   "cell_type": "markdown",
   "metadata": {},
   "source": [
    "#Research question 4: How does the price per sqft for a house change with the size of the house?"
   ]
  },
  {
   "cell_type": "code",
   "execution_count": 8,
   "metadata": {},
   "outputs": [
    {
     "data": {
      "text/plain": [
       "Text(0, 0.5, 'Price/sqft')"
      ]
     },
     "execution_count": 8,
     "metadata": {},
     "output_type": "execute_result"
    },
    {
     "data": {
      "image/png": "[encoded data removed]",
      "text/plain": [
       "<Figure size 432x288 with 2 Axes>"
      ]
     },
     "metadata": {},
     "output_type": "display_data"
    }
   ],
   "source": [
    "fig, ax = plt.subplots()\n",
    "housing.plot.scatter(y='price/sqft',x='areas',c='Sold',cmap='coolwarm',ax=ax)\n",
    "ax.set_xlabel(\"Area\")\n",
    "ax.set_ylabel(\"Price/sqft\")"
   ]
  },
  {
   "cell_type": "markdown",
   "metadata": {},
   "source": [
    "#Research question 5: How does the price per sqft vary with score of elementory schools?"
   ]
  },
  {
   "cell_type": "code",
   "execution_count": 9,
   "metadata": {},
   "outputs": [
    {
     "data": {
      "text/plain": [
       "<seaborn.axisgrid.JointGrid at 0x1589e47d8c8>"
      ]
     },
     "execution_count": 9,
     "metadata": {},
     "output_type": "execute_result"
    },
    {
     "data": {
      "image/png": "[encoded data removed]",
      "text/plain": [
       "<Figure size 432x432 with 3 Axes>"
      ]
     },
     "metadata": {},
     "output_type": "display_data"
    }
   ],
   "source": [
    "sns.set_palette(\"GnBu_d\")\n",
    "sns.set_style('whitegrid')\n",
    "\n",
    "sns.jointplot(y='price/sqft',x='elem_score',data=housing,color='green')"
   ]
  },
  {
   "cell_type": "markdown",
   "metadata": {},
   "source": []
  },
  {
   "cell_type": "code",
   "execution_count": null,
   "metadata": {},
   "outputs": [],
   "source": [
    "\n"
   ]
  },
  {
   "cell_type": "code",
   "execution_count": null,
   "metadata": {},
   "outputs": [],
   "source": []
  },
  {
   "cell_type": "code",
   "execution_count": null,
   "metadata": {},
   "outputs": [],
   "source": []
  },
  {
   "cell_type": "code",
   "execution_count": null,
   "metadata": {},
   "outputs": [],
   "source": []
  }
 ],
 "metadata": {
  "kernelspec": {
   "display_name": "Python 3",
   "language": "python",
   "name": "python3"
  },
  "language_info": {
   "codemirror_mode": {
    "name": "ipython",
    "version": 3
   },
   "file_extension": ".py",
   "mimetype": "text/x-python",
   "name": "python",
   "nbconvert_exporter": "python",
   "pygments_lexer": "ipython3",
   "version": "3.7.4"
  }
 },
 "nbformat": 4,
 "nbformat_minor": 2
}
